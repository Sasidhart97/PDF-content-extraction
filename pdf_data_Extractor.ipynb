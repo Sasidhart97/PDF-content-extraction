{
  "nbformat": 4,
  "nbformat_minor": 0,
  "metadata": {
    "colab": {
      "provenance": []
    },
    "kernelspec": {
      "name": "python3",
      "display_name": "Python 3"
    },
    "language_info": {
      "name": "python"
    }
  },
  "cells": [
    {
      "cell_type": "code",
      "execution_count": 1,
      "metadata": {
        "colab": {
          "base_uri": "https://localhost:8080/"
        },
        "id": "bhaCs5YhfkTK",
        "outputId": "dedf5a5d-59fe-4c9f-a528-581c57eb1efa",
        "collapsed": true
      },
      "outputs": [
        {
          "output_type": "stream",
          "name": "stdout",
          "text": [
            "Requirement already satisfied: pypdf2 in /usr/local/lib/python3.10/dist-packages (3.0.1)\n",
            "Requirement already satisfied: pdf2image in /usr/local/lib/python3.10/dist-packages (1.17.0)\n",
            "Requirement already satisfied: pillow in /usr/local/lib/python3.10/dist-packages (from pdf2image) (11.0.0)\n",
            "Requirement already satisfied: pytesseract in /usr/local/lib/python3.10/dist-packages (0.3.13)\n",
            "Requirement already satisfied: packaging>=21.3 in /usr/local/lib/python3.10/dist-packages (from pytesseract) (24.2)\n",
            "Requirement already satisfied: Pillow>=8.0.0 in /usr/local/lib/python3.10/dist-packages (from pytesseract) (11.0.0)\n",
            "Requirement already satisfied: tqdm in /usr/local/lib/python3.10/dist-packages (4.66.6)\n",
            "Requirement already satisfied: tabula-py in /usr/local/lib/python3.10/dist-packages (2.10.0)\n",
            "Requirement already satisfied: pandas>=0.25.3 in /usr/local/lib/python3.10/dist-packages (from tabula-py) (2.2.2)\n",
            "Requirement already satisfied: numpy>1.24.4 in /usr/local/lib/python3.10/dist-packages (from tabula-py) (1.26.4)\n",
            "Requirement already satisfied: distro in /usr/local/lib/python3.10/dist-packages (from tabula-py) (1.9.0)\n",
            "Requirement already satisfied: python-dateutil>=2.8.2 in /usr/local/lib/python3.10/dist-packages (from pandas>=0.25.3->tabula-py) (2.8.2)\n",
            "Requirement already satisfied: pytz>=2020.1 in /usr/local/lib/python3.10/dist-packages (from pandas>=0.25.3->tabula-py) (2024.2)\n",
            "Requirement already satisfied: tzdata>=2022.7 in /usr/local/lib/python3.10/dist-packages (from pandas>=0.25.3->tabula-py) (2024.2)\n",
            "Requirement already satisfied: six>=1.5 in /usr/local/lib/python3.10/dist-packages (from python-dateutil>=2.8.2->pandas>=0.25.3->tabula-py) (1.17.0)\n",
            "Reading package lists... Done\n",
            "Building dependency tree... Done\n",
            "Reading state information... Done\n",
            "ghostscript is already the newest version (9.55.0~dfsg1-0ubuntu5.10).\n",
            "python3-tk is already the newest version (3.10.8-1~22.04).\n",
            "0 upgraded, 0 newly installed, 0 to remove and 49 not upgraded.\n",
            "Requirement already satisfied: opencv-python in /usr/local/lib/python3.10/dist-packages (4.10.0.84)\n",
            "Requirement already satisfied: numpy>=1.21.2 in /usr/local/lib/python3.10/dist-packages (from opencv-python) (1.26.4)\n",
            "Requirement already satisfied: pdfplumber in /usr/local/lib/python3.10/dist-packages (0.11.4)\n",
            "Requirement already satisfied: pdfminer.six==20231228 in /usr/local/lib/python3.10/dist-packages (from pdfplumber) (20231228)\n",
            "Requirement already satisfied: Pillow>=9.1 in /usr/local/lib/python3.10/dist-packages (from pdfplumber) (11.0.0)\n",
            "Requirement already satisfied: pypdfium2>=4.18.0 in /usr/local/lib/python3.10/dist-packages (from pdfplumber) (4.30.0)\n",
            "Requirement already satisfied: charset-normalizer>=2.0.0 in /usr/local/lib/python3.10/dist-packages (from pdfminer.six==20231228->pdfplumber) (3.4.0)\n",
            "Requirement already satisfied: cryptography>=36.0.0 in /usr/local/lib/python3.10/dist-packages (from pdfminer.six==20231228->pdfplumber) (43.0.3)\n",
            "Requirement already satisfied: cffi>=1.12 in /usr/local/lib/python3.10/dist-packages (from cryptography>=36.0.0->pdfminer.six==20231228->pdfplumber) (1.17.1)\n",
            "Requirement already satisfied: pycparser in /usr/local/lib/python3.10/dist-packages (from cffi>=1.12->cryptography>=36.0.0->pdfminer.six==20231228->pdfplumber) (2.22)\n",
            "Requirement already satisfied: pymupdf in /usr/local/lib/python3.10/dist-packages (1.25.1)\n"
          ]
        }
      ],
      "source": [
        "!pip install pypdf2\n",
        "!pip install pdf2image\n",
        "!pip install pytesseract\n",
        "!pip install tqdm\n",
        "!pip install tabula-py\n",
        "!apt install ghostscript python3-tk\n",
        "!pip install opencv-python\n",
        "!pip install pdfplumber\n",
        "!pip install --upgrade pymupdf"
      ]
    },
    {
      "cell_type": "code",
      "source": [
        "from PyPDF2 import PdfReader\n",
        "from pdf2image import convert_from_path\n",
        "import pytesseract\n",
        "import os\n",
        "import json\n",
        "from PIL import Image\n",
        "import re\n",
        "from tqdm import tqdm\n",
        "from IPython.display import display\n",
        "import pandas as pd\n",
        "import shutil"
      ],
      "metadata": {
        "id": "nBAxg_SSfsso"
      },
      "execution_count": 2,
      "outputs": []
    },
    {
      "cell_type": "code",
      "source": [
        "# Load the PDF\n",
        "pdf_path = 'Understanding-NEPA-Litigation_v4.pdf'\n",
        "reader = PdfReader(pdf_path)"
      ],
      "metadata": {
        "id": "EmnMOwETf646"
      },
      "execution_count": 3,
      "outputs": []
    },
    {
      "cell_type": "code",
      "source": [
        "print(\"no. of pages = \", len(reader.pages))"
      ],
      "metadata": {
        "colab": {
          "base_uri": "https://localhost:8080/"
        },
        "id": "Q5HB9VeNgKNy",
        "outputId": "8ff22d2b-6a6c-4f7f-c6b3-d1bc55535acd"
      },
      "execution_count": 4,
      "outputs": [
        {
          "output_type": "stream",
          "name": "stdout",
          "text": [
            "no. of pages =  20\n"
          ]
        }
      ]
    },
    {
      "cell_type": "code",
      "source": [
        "raw_text = \"\"\n",
        "page_text = {}\n",
        "c = 0\n",
        "for page in tqdm(reader.pages):\n",
        "    raw_text += page.extract_text() + \"\\n ---------- NEW PAGE ---------- \\n\"\n",
        "    page_text[c+1] = page.extract_text()\n",
        "    c+=1"
      ],
      "metadata": {
        "colab": {
          "base_uri": "https://localhost:8080/"
        },
        "id": "XQBKGSoXgP7_",
        "outputId": "fd406ca6-3495-4539-fdec-156b5a3a6ef6"
      },
      "execution_count": 5,
      "outputs": [
        {
          "output_type": "stream",
          "name": "stderr",
          "text": [
            "100%|██████████| 20/20 [00:00<00:00, 26.16it/s]\n"
          ]
        }
      ]
    },
    {
      "cell_type": "markdown",
      "source": [
        "### Just check the content"
      ],
      "metadata": {
        "id": "U5uFAwoDvN8C"
      }
    },
    {
      "cell_type": "code",
      "source": [
        "print(page_text[3])"
      ],
      "metadata": {
        "colab": {
          "base_uri": "https://localhost:8080/"
        },
        "id": "2H3ElMYiLqlB",
        "outputId": "ca0738fb-9214-4813-cd47-5bcab6887ec1"
      },
      "execution_count": 6,
      "outputs": [
        {
          "output_type": "stream",
          "name": "stdout",
          "text": [
            "3\n",
            "Key findings:  \n",
            "•  Between 2013 and 2022, circuit courts heard approximately 39 NEPA appeals cases per year,  \n",
            "a 56% increase over the rate from 2001 to 2015 .2\n",
            "•  Agencies won about 80% of the 2013-2022 appeals cases, 11% more per year than from 2001 \n",
            "to 2004 , 8% more than from 2001 to 2008 , and 4% less than from 2009 to 2015 .3 The rate at \n",
            "which agencies’ reviews are upheld is high, meaning these environmental reviews are seldom \n",
            "changed as a result of litigation.\n",
            "•  On average, 4.2 years elapsed between publication of an environmental impact statement  \n",
            "or environmental assessment and conclusion of the corresponding legal challenge at the \n",
            "appellate level. Of these appealed cases, 84% were closed less than six years after the contested \n",
            "permit was published, and 39% were closed in less than three.\n",
            "•  Among the challenges, 42% contested environmental impact statements, and 36% contested \n",
            "environmental assessments. Agencies won about 80% of challenges to both.\n",
            "•  NGOs instigated 72% of the total challenges. Of those, just 10 organizations initiated 35% and \n",
            "had a success rate of just 26%, merely 6% higher than the average for all types of plaintiffs.\n",
            "•  Only 2.8% of NEPA litigations pertained to agency assessment of environmental justice issues.\n",
            "•  Public lands management projects were the most common subject of litigation (37%), the \n",
            "greatest share of which (47%) challenged forest management projects. Just 10 groups filed 67% \n",
            "of the challenges to forest management projects and collectively won only 23% of those cases, \n",
            "adding 3.7 years on average to the process of implementing the 77% of projects on cases  \n",
            "they lost.\n",
            "•  Energy projects were the second most common subject of litigation (29%). Litigation delayed \n",
            "fossil fuel and clean energy project implementation by 3.9 years on average, despite the fact \n",
            "that agencies won 71% of those challenges. NGOs filed 74% of energy cases, with just 10 organi -\n",
            "zations responsible for 48% of challenges. \n"
          ]
        }
      ]
    },
    {
      "cell_type": "code",
      "source": [
        "cleaned_text = re.sub(r'[^a-zA-Z0-9\\s.,!?@#$%^&*()+=:;\\'\"-]', '', raw_text)"
      ],
      "metadata": {
        "collapsed": true,
        "id": "JrP0DWdUgR5n"
      },
      "execution_count": 7,
      "outputs": []
    },
    {
      "cell_type": "code",
      "source": [
        "clean_pagewise_text = {}\n",
        "for i in page_text:\n",
        "    clean_pagewise_text[i] = re.sub(r'[^a-zA-Z0-9\\s.,!?@#$%^&*()+=:;\\'\"-]', '', page_text[i])"
      ],
      "metadata": {
        "id": "hfOzmU8Gvls-"
      },
      "execution_count": 8,
      "outputs": []
    },
    {
      "cell_type": "code",
      "source": [
        "print(clean_pagewise_text[3])"
      ],
      "metadata": {
        "colab": {
          "base_uri": "https://localhost:8080/"
        },
        "id": "i1SU4M4qvwic",
        "outputId": "4d8d0c90-4130-4182-91a8-cd03aa942364"
      },
      "execution_count": 9,
      "outputs": [
        {
          "output_type": "stream",
          "name": "stdout",
          "text": [
            "3\n",
            "Key findings:  \n",
            "  Between 2013 and 2022, circuit courts heard approximately 39 NEPA appeals cases per year,  \n",
            "a 56% increase over the rate from 2001 to 2015 .2\n",
            "  Agencies won about 80% of the 2013-2022 appeals cases, 11% more per year than from 2001 \n",
            "to 2004 , 8% more than from 2001 to 2008 , and 4% less than from 2009 to 2015 .3 The rate at \n",
            "which agencies reviews are upheld is high, meaning these environmental reviews are seldom \n",
            "changed as a result of litigation.\n",
            "  On average, 4.2 years elapsed between publication of an environmental impact statement  \n",
            "or environmental assessment and conclusion of the corresponding legal challenge at the \n",
            "appellate level. Of these appealed cases, 84% were closed less than six years after the contested \n",
            "permit was published, and 39% were closed in less than three.\n",
            "  Among the challenges, 42% contested environmental impact statements, and 36% contested \n",
            "environmental assessments. Agencies won about 80% of challenges to both.\n",
            "  NGOs instigated 72% of the total challenges. Of those, just 10 organizations initiated 35% and \n",
            "had a success rate of just 26%, merely 6% higher than the average for all types of plaintiffs.\n",
            "  Only 2.8% of NEPA litigations pertained to agency assessment of environmental justice issues.\n",
            "  Public lands management projects were the most common subject of litigation (37%), the \n",
            "greatest share of which (47%) challenged forest management projects. Just 10 groups filed 67% \n",
            "of the challenges to forest management projects and collectively won only 23% of those cases, \n",
            "adding 3.7 years on average to the process of implementing the 77% of projects on cases  \n",
            "they lost.\n",
            "  Energy projects were the second most common subject of litigation (29%). Litigation delayed \n",
            "fossil fuel and clean energy project implementation by 3.9 years on average, despite the fact \n",
            "that agencies won 71% of those challenges. NGOs filed 74% of energy cases, with just 10 organi -\n",
            "zations responsible for 48% of challenges. \n"
          ]
        }
      ]
    },
    {
      "cell_type": "code",
      "source": [
        "base_dir = '/Processed_NEPA_Litigation'\n",
        "os.makedirs(base_dir, exist_ok=True)"
      ],
      "metadata": {
        "id": "TdAv1b95v-Jn"
      },
      "execution_count": 10,
      "outputs": []
    },
    {
      "cell_type": "code",
      "source": [
        "text_dir = os.path.join(base_dir, 'Text')\n",
        "if os.path.exists(text_dir):\n",
        "  shutil.rmtree(text_dir)\n",
        "os.makedirs(text_dir, exist_ok=True)"
      ],
      "metadata": {
        "id": "xbbdFoK5wc-s"
      },
      "execution_count": 11,
      "outputs": []
    },
    {
      "cell_type": "code",
      "source": [
        "file_path = os.path.join(text_dir, 'full_text.txt')\n",
        "with open(file_path, 'w') as file:\n",
        "    file.write(cleaned_text)"
      ],
      "metadata": {
        "id": "Gzr7alkLwnDQ"
      },
      "execution_count": 12,
      "outputs": []
    },
    {
      "cell_type": "code",
      "source": [
        "for i in clean_pagewise_text:\n",
        "    file_path = os.path.join(text_dir, f'page_{i}.txt')\n",
        "    with open(file_path, 'w') as file:\n",
        "        file.write(clean_pagewise_text[i])"
      ],
      "metadata": {
        "id": "eZ1lF0Rt2NDU"
      },
      "execution_count": 13,
      "outputs": []
    },
    {
      "cell_type": "markdown",
      "source": [
        "### Tables"
      ],
      "metadata": {
        "id": "Lh0X68f9PpDR"
      }
    },
    {
      "cell_type": "code",
      "source": [
        "from tabula import read_pdf"
      ],
      "metadata": {
        "id": "AKZ2e7RcLczY"
      },
      "execution_count": 14,
      "outputs": []
    },
    {
      "cell_type": "code",
      "source": [
        "tables_new = {}\n",
        "for i in tqdm(range(len(reader.pages))):\n",
        "    tables = read_pdf(pdf_path, pages=i+1,\n",
        "                      multiple_tables=True, stream=True)\n",
        "    tables_new[i+1] = []\n",
        "    if len(tables) > 0:\n",
        "      for df in tqdm(tables):\n",
        "          # Check if the first column's first row is NaN\n",
        "          if pd.isna(df.iloc[1, 0]):\n",
        "              # Create new column headers\n",
        "              new_columns = []\n",
        "              for col, (val1, val2) in zip(df.columns, zip(df.iloc[0], df.iloc[1])):\n",
        "                  # Include original column name if not \"Unnamed\"\n",
        "                  col_header = (col if \"Unnamed\" not in col else \"\") + \\\n",
        "                              (str(val1) if not pd.isna(val1) else \"\") + \\\n",
        "                              (str(val2) if not pd.isna(val2) else \"\")\n",
        "                  new_columns.append(col_header.strip())\n",
        "\n",
        "              # Set the new column headers and drop the first two rows\n",
        "              df.columns = new_columns\n",
        "              df = df.iloc[2:].reset_index(drop=True)\n",
        "\n",
        "              tables_new[i+1].append(df)\n",
        "          else:\n",
        "              tables_new[i+1].append(df)"
      ],
      "metadata": {
        "colab": {
          "base_uri": "https://localhost:8080/"
        },
        "id": "_XPtuFc6Diy0",
        "outputId": "f1da1e7a-cfe5-40ed-b578-23816e5823ef"
      },
      "execution_count": 15,
      "outputs": [
        {
          "output_type": "stream",
          "name": "stderr",
          "text": [
            "\r  0%|          | 0/20 [00:00<?, ?it/s]WARNING:tabula.backend:Failed to import jpype dependencies. Fallback to subprocess.\n",
            "WARNING:tabula.backend:No module named 'jpype'\n",
            " 25%|██▌       | 5/20 [00:25<01:05,  4.38s/it]\n",
            "100%|██████████| 2/2 [00:00<00:00, 5577.53it/s]\n",
            " 30%|███       | 6/20 [00:28<00:54,  3.91s/it]\n",
            "100%|██████████| 1/1 [00:00<00:00, 1919.59it/s]\n",
            " 35%|███▌      | 7/20 [00:31<00:48,  3.70s/it]\n",
            "100%|██████████| 1/1 [00:00<00:00, 2631.31it/s]\n",
            " 45%|████▌     | 9/20 [00:38<00:38,  3.53s/it]\n",
            "100%|██████████| 2/2 [00:00<00:00, 1362.45it/s]\n",
            " 50%|█████     | 10/20 [00:41<00:33,  3.38s/it]\n",
            "100%|██████████| 1/1 [00:00<00:00, 299.36it/s]\n",
            " 60%|██████    | 12/20 [00:46<00:23,  2.93s/it]\n",
            "100%|██████████| 1/1 [00:00<00:00, 1210.13it/s]\n",
            " 70%|███████   | 14/20 [00:52<00:18,  3.03s/it]\n",
            "100%|██████████| 1/1 [00:00<00:00, 797.40it/s]\n",
            "100%|██████████| 20/20 [01:07<00:00,  3.39s/it]\n"
          ]
        }
      ]
    },
    {
      "cell_type": "code",
      "source": [
        "display(tables_new[6][0])"
      ],
      "metadata": {
        "colab": {
          "base_uri": "https://localhost:8080/",
          "height": 269
        },
        "collapsed": true,
        "id": "54cM20AtgscG",
        "outputId": "20cd1d6a-7a64-4f0b-9999-e3abb4b4bec2"
      },
      "execution_count": 16,
      "outputs": [
        {
          "output_type": "display_data",
          "data": {
            "text/plain": [
              "            Project category Number of cases Minimum days Maximum days  \\\n",
              "0                     Energy              70          110        5,032   \n",
              "1             Infrastructure              45           91        3,456   \n",
              "2                      Other              37          210        3,648   \n",
              "3               Public lands             106           98        6,942   \n",
              "4                        NaN             NaN      Minimum      Maximum   \n",
              "5   Total categories in days               –           91        6,942   \n",
              "6  Total categories in years               –          0.2         19.0   \n",
              "\n",
              "  Average days Median days  \n",
              "0        1,415       1,159  \n",
              "1        1,250       1,127  \n",
              "2        1,531       1,511  \n",
              "3        1,744       1,486  \n",
              "4      Average      Median  \n",
              "5        1,538       1,365  \n",
              "6          4.2         3.7  "
            ],
            "text/html": [
              "\n",
              "  <div id=\"df-997fab2a-81a2-45b4-9207-4f3daeaa44cb\" class=\"colab-df-container\">\n",
              "    <div>\n",
              "<style scoped>\n",
              "    .dataframe tbody tr th:only-of-type {\n",
              "        vertical-align: middle;\n",
              "    }\n",
              "\n",
              "    .dataframe tbody tr th {\n",
              "        vertical-align: top;\n",
              "    }\n",
              "\n",
              "    .dataframe thead th {\n",
              "        text-align: right;\n",
              "    }\n",
              "</style>\n",
              "<table border=\"1\" class=\"dataframe\">\n",
              "  <thead>\n",
              "    <tr style=\"text-align: right;\">\n",
              "      <th></th>\n",
              "      <th>Project category</th>\n",
              "      <th>Number of cases</th>\n",
              "      <th>Minimum days</th>\n",
              "      <th>Maximum days</th>\n",
              "      <th>Average days</th>\n",
              "      <th>Median days</th>\n",
              "    </tr>\n",
              "  </thead>\n",
              "  <tbody>\n",
              "    <tr>\n",
              "      <th>0</th>\n",
              "      <td>Energy</td>\n",
              "      <td>70</td>\n",
              "      <td>110</td>\n",
              "      <td>5,032</td>\n",
              "      <td>1,415</td>\n",
              "      <td>1,159</td>\n",
              "    </tr>\n",
              "    <tr>\n",
              "      <th>1</th>\n",
              "      <td>Infrastructure</td>\n",
              "      <td>45</td>\n",
              "      <td>91</td>\n",
              "      <td>3,456</td>\n",
              "      <td>1,250</td>\n",
              "      <td>1,127</td>\n",
              "    </tr>\n",
              "    <tr>\n",
              "      <th>2</th>\n",
              "      <td>Other</td>\n",
              "      <td>37</td>\n",
              "      <td>210</td>\n",
              "      <td>3,648</td>\n",
              "      <td>1,531</td>\n",
              "      <td>1,511</td>\n",
              "    </tr>\n",
              "    <tr>\n",
              "      <th>3</th>\n",
              "      <td>Public lands</td>\n",
              "      <td>106</td>\n",
              "      <td>98</td>\n",
              "      <td>6,942</td>\n",
              "      <td>1,744</td>\n",
              "      <td>1,486</td>\n",
              "    </tr>\n",
              "    <tr>\n",
              "      <th>4</th>\n",
              "      <td>NaN</td>\n",
              "      <td>NaN</td>\n",
              "      <td>Minimum</td>\n",
              "      <td>Maximum</td>\n",
              "      <td>Average</td>\n",
              "      <td>Median</td>\n",
              "    </tr>\n",
              "    <tr>\n",
              "      <th>5</th>\n",
              "      <td>Total categories in days</td>\n",
              "      <td>–</td>\n",
              "      <td>91</td>\n",
              "      <td>6,942</td>\n",
              "      <td>1,538</td>\n",
              "      <td>1,365</td>\n",
              "    </tr>\n",
              "    <tr>\n",
              "      <th>6</th>\n",
              "      <td>Total categories in years</td>\n",
              "      <td>–</td>\n",
              "      <td>0.2</td>\n",
              "      <td>19.0</td>\n",
              "      <td>4.2</td>\n",
              "      <td>3.7</td>\n",
              "    </tr>\n",
              "  </tbody>\n",
              "</table>\n",
              "</div>\n",
              "    <div class=\"colab-df-buttons\">\n",
              "\n",
              "  <div class=\"colab-df-container\">\n",
              "    <button class=\"colab-df-convert\" onclick=\"convertToInteractive('df-997fab2a-81a2-45b4-9207-4f3daeaa44cb')\"\n",
              "            title=\"Convert this dataframe to an interactive table.\"\n",
              "            style=\"display:none;\">\n",
              "\n",
              "  <svg xmlns=\"http://www.w3.org/2000/svg\" height=\"24px\" viewBox=\"0 -960 960 960\">\n",
              "    <path d=\"M120-120v-720h720v720H120Zm60-500h600v-160H180v160Zm220 220h160v-160H400v160Zm0 220h160v-160H400v160ZM180-400h160v-160H180v160Zm440 0h160v-160H620v160ZM180-180h160v-160H180v160Zm440 0h160v-160H620v160Z\"/>\n",
              "  </svg>\n",
              "    </button>\n",
              "\n",
              "  <style>\n",
              "    .colab-df-container {\n",
              "      display:flex;\n",
              "      gap: 12px;\n",
              "    }\n",
              "\n",
              "    .colab-df-convert {\n",
              "      background-color: #E8F0FE;\n",
              "      border: none;\n",
              "      border-radius: 50%;\n",
              "      cursor: pointer;\n",
              "      display: none;\n",
              "      fill: #1967D2;\n",
              "      height: 32px;\n",
              "      padding: 0 0 0 0;\n",
              "      width: 32px;\n",
              "    }\n",
              "\n",
              "    .colab-df-convert:hover {\n",
              "      background-color: #E2EBFA;\n",
              "      box-shadow: 0px 1px 2px rgba(60, 64, 67, 0.3), 0px 1px 3px 1px rgba(60, 64, 67, 0.15);\n",
              "      fill: #174EA6;\n",
              "    }\n",
              "\n",
              "    .colab-df-buttons div {\n",
              "      margin-bottom: 4px;\n",
              "    }\n",
              "\n",
              "    [theme=dark] .colab-df-convert {\n",
              "      background-color: #3B4455;\n",
              "      fill: #D2E3FC;\n",
              "    }\n",
              "\n",
              "    [theme=dark] .colab-df-convert:hover {\n",
              "      background-color: #434B5C;\n",
              "      box-shadow: 0px 1px 3px 1px rgba(0, 0, 0, 0.15);\n",
              "      filter: drop-shadow(0px 1px 2px rgba(0, 0, 0, 0.3));\n",
              "      fill: #FFFFFF;\n",
              "    }\n",
              "  </style>\n",
              "\n",
              "    <script>\n",
              "      const buttonEl =\n",
              "        document.querySelector('#df-997fab2a-81a2-45b4-9207-4f3daeaa44cb button.colab-df-convert');\n",
              "      buttonEl.style.display =\n",
              "        google.colab.kernel.accessAllowed ? 'block' : 'none';\n",
              "\n",
              "      async function convertToInteractive(key) {\n",
              "        const element = document.querySelector('#df-997fab2a-81a2-45b4-9207-4f3daeaa44cb');\n",
              "        const dataTable =\n",
              "          await google.colab.kernel.invokeFunction('convertToInteractive',\n",
              "                                                    [key], {});\n",
              "        if (!dataTable) return;\n",
              "\n",
              "        const docLinkHtml = 'Like what you see? Visit the ' +\n",
              "          '<a target=\"_blank\" href=https://colab.research.google.com/notebooks/data_table.ipynb>data table notebook</a>'\n",
              "          + ' to learn more about interactive tables.';\n",
              "        element.innerHTML = '';\n",
              "        dataTable['output_type'] = 'display_data';\n",
              "        await google.colab.output.renderOutput(dataTable, element);\n",
              "        const docLink = document.createElement('div');\n",
              "        docLink.innerHTML = docLinkHtml;\n",
              "        element.appendChild(docLink);\n",
              "      }\n",
              "    </script>\n",
              "  </div>\n",
              "\n",
              "\n",
              "<div id=\"df-156a0149-e0a3-4405-bf5d-a52d71000e1f\">\n",
              "  <button class=\"colab-df-quickchart\" onclick=\"quickchart('df-156a0149-e0a3-4405-bf5d-a52d71000e1f')\"\n",
              "            title=\"Suggest charts\"\n",
              "            style=\"display:none;\">\n",
              "\n",
              "<svg xmlns=\"http://www.w3.org/2000/svg\" height=\"24px\"viewBox=\"0 0 24 24\"\n",
              "     width=\"24px\">\n",
              "    <g>\n",
              "        <path d=\"M19 3H5c-1.1 0-2 .9-2 2v14c0 1.1.9 2 2 2h14c1.1 0 2-.9 2-2V5c0-1.1-.9-2-2-2zM9 17H7v-7h2v7zm4 0h-2V7h2v10zm4 0h-2v-4h2v4z\"/>\n",
              "    </g>\n",
              "</svg>\n",
              "  </button>\n",
              "\n",
              "<style>\n",
              "  .colab-df-quickchart {\n",
              "      --bg-color: #E8F0FE;\n",
              "      --fill-color: #1967D2;\n",
              "      --hover-bg-color: #E2EBFA;\n",
              "      --hover-fill-color: #174EA6;\n",
              "      --disabled-fill-color: #AAA;\n",
              "      --disabled-bg-color: #DDD;\n",
              "  }\n",
              "\n",
              "  [theme=dark] .colab-df-quickchart {\n",
              "      --bg-color: #3B4455;\n",
              "      --fill-color: #D2E3FC;\n",
              "      --hover-bg-color: #434B5C;\n",
              "      --hover-fill-color: #FFFFFF;\n",
              "      --disabled-bg-color: #3B4455;\n",
              "      --disabled-fill-color: #666;\n",
              "  }\n",
              "\n",
              "  .colab-df-quickchart {\n",
              "    background-color: var(--bg-color);\n",
              "    border: none;\n",
              "    border-radius: 50%;\n",
              "    cursor: pointer;\n",
              "    display: none;\n",
              "    fill: var(--fill-color);\n",
              "    height: 32px;\n",
              "    padding: 0;\n",
              "    width: 32px;\n",
              "  }\n",
              "\n",
              "  .colab-df-quickchart:hover {\n",
              "    background-color: var(--hover-bg-color);\n",
              "    box-shadow: 0 1px 2px rgba(60, 64, 67, 0.3), 0 1px 3px 1px rgba(60, 64, 67, 0.15);\n",
              "    fill: var(--button-hover-fill-color);\n",
              "  }\n",
              "\n",
              "  .colab-df-quickchart-complete:disabled,\n",
              "  .colab-df-quickchart-complete:disabled:hover {\n",
              "    background-color: var(--disabled-bg-color);\n",
              "    fill: var(--disabled-fill-color);\n",
              "    box-shadow: none;\n",
              "  }\n",
              "\n",
              "  .colab-df-spinner {\n",
              "    border: 2px solid var(--fill-color);\n",
              "    border-color: transparent;\n",
              "    border-bottom-color: var(--fill-color);\n",
              "    animation:\n",
              "      spin 1s steps(1) infinite;\n",
              "  }\n",
              "\n",
              "  @keyframes spin {\n",
              "    0% {\n",
              "      border-color: transparent;\n",
              "      border-bottom-color: var(--fill-color);\n",
              "      border-left-color: var(--fill-color);\n",
              "    }\n",
              "    20% {\n",
              "      border-color: transparent;\n",
              "      border-left-color: var(--fill-color);\n",
              "      border-top-color: var(--fill-color);\n",
              "    }\n",
              "    30% {\n",
              "      border-color: transparent;\n",
              "      border-left-color: var(--fill-color);\n",
              "      border-top-color: var(--fill-color);\n",
              "      border-right-color: var(--fill-color);\n",
              "    }\n",
              "    40% {\n",
              "      border-color: transparent;\n",
              "      border-right-color: var(--fill-color);\n",
              "      border-top-color: var(--fill-color);\n",
              "    }\n",
              "    60% {\n",
              "      border-color: transparent;\n",
              "      border-right-color: var(--fill-color);\n",
              "    }\n",
              "    80% {\n",
              "      border-color: transparent;\n",
              "      border-right-color: var(--fill-color);\n",
              "      border-bottom-color: var(--fill-color);\n",
              "    }\n",
              "    90% {\n",
              "      border-color: transparent;\n",
              "      border-bottom-color: var(--fill-color);\n",
              "    }\n",
              "  }\n",
              "</style>\n",
              "\n",
              "  <script>\n",
              "    async function quickchart(key) {\n",
              "      const quickchartButtonEl =\n",
              "        document.querySelector('#' + key + ' button');\n",
              "      quickchartButtonEl.disabled = true;  // To prevent multiple clicks.\n",
              "      quickchartButtonEl.classList.add('colab-df-spinner');\n",
              "      try {\n",
              "        const charts = await google.colab.kernel.invokeFunction(\n",
              "            'suggestCharts', [key], {});\n",
              "      } catch (error) {\n",
              "        console.error('Error during call to suggestCharts:', error);\n",
              "      }\n",
              "      quickchartButtonEl.classList.remove('colab-df-spinner');\n",
              "      quickchartButtonEl.classList.add('colab-df-quickchart-complete');\n",
              "    }\n",
              "    (() => {\n",
              "      let quickchartButtonEl =\n",
              "        document.querySelector('#df-156a0149-e0a3-4405-bf5d-a52d71000e1f button');\n",
              "      quickchartButtonEl.style.display =\n",
              "        google.colab.kernel.accessAllowed ? 'block' : 'none';\n",
              "    })();\n",
              "  </script>\n",
              "</div>\n",
              "\n",
              "    </div>\n",
              "  </div>\n"
            ],
            "application/vnd.google.colaboratory.intrinsic+json": {
              "type": "dataframe",
              "summary": "{\n  \"name\": \"display(tables_new[6][0])\",\n  \"rows\": 7,\n  \"fields\": [\n    {\n      \"column\": \"Project category\",\n      \"properties\": {\n        \"dtype\": \"string\",\n        \"num_unique_values\": 6,\n        \"samples\": [\n          \"Energy\",\n          \"Infrastructure\",\n          \"Total categories in years\"\n        ],\n        \"semantic_type\": \"\",\n        \"description\": \"\"\n      }\n    },\n    {\n      \"column\": \"Number of cases\",\n      \"properties\": {\n        \"dtype\": \"string\",\n        \"num_unique_values\": 5,\n        \"samples\": [\n          \"45\",\n          \"\\u2013\",\n          \"37\"\n        ],\n        \"semantic_type\": \"\",\n        \"description\": \"\"\n      }\n    },\n    {\n      \"column\": \"Minimum days\",\n      \"properties\": {\n        \"dtype\": \"string\",\n        \"num_unique_values\": 6,\n        \"samples\": [\n          \"110\",\n          \"91\",\n          \"0.2\"\n        ],\n        \"semantic_type\": \"\",\n        \"description\": \"\"\n      }\n    },\n    {\n      \"column\": \"Maximum days\",\n      \"properties\": {\n        \"dtype\": \"string\",\n        \"num_unique_values\": 6,\n        \"samples\": [\n          \"5,032\",\n          \"3,456\",\n          \"19.0\"\n        ],\n        \"semantic_type\": \"\",\n        \"description\": \"\"\n      }\n    },\n    {\n      \"column\": \"Average days\",\n      \"properties\": {\n        \"dtype\": \"string\",\n        \"num_unique_values\": 7,\n        \"samples\": [\n          \"1,415\",\n          \"1,250\",\n          \"1,538\"\n        ],\n        \"semantic_type\": \"\",\n        \"description\": \"\"\n      }\n    },\n    {\n      \"column\": \"Median days\",\n      \"properties\": {\n        \"dtype\": \"string\",\n        \"num_unique_values\": 7,\n        \"samples\": [\n          \"1,159\",\n          \"1,127\",\n          \"1,365\"\n        ],\n        \"semantic_type\": \"\",\n        \"description\": \"\"\n      }\n    }\n  ]\n}"
            }
          },
          "metadata": {}
        }
      ]
    },
    {
      "cell_type": "code",
      "source": [
        "tables_dir = os.path.join(base_dir, 'Tables')\n",
        "if os.path.exists(tables_dir):\n",
        "    shutil.rmtree(tables_dir)\n",
        "os.makedirs(tables_dir, exist_ok=True)"
      ],
      "metadata": {
        "id": "thzZVyft62wz"
      },
      "execution_count": 17,
      "outputs": []
    },
    {
      "cell_type": "code",
      "source": [
        "c = 0\n",
        "for i in range(len(tables_new)):\n",
        "    if len(tables_new[i+1]) == 0:\n",
        "        continue\n",
        "    for j in range(len(tables_new[i+1])):\n",
        "      file_path = os.path.join(tables_dir, f'page_{i+1}_table_{c+1}.csv')\n",
        "      c+=1\n",
        "      tables_new[i+1][j].to_csv(file_path, index=False)"
      ],
      "metadata": {
        "id": "p1y9h3t07C0E"
      },
      "execution_count": 18,
      "outputs": []
    },
    {
      "cell_type": "markdown",
      "source": [
        "### Images"
      ],
      "metadata": {
        "id": "cxbP-Bvl-tX6"
      }
    },
    {
      "cell_type": "code",
      "source": [
        "import pymupdf"
      ],
      "metadata": {
        "id": "1QlxoHcZCOv2"
      },
      "execution_count": 19,
      "outputs": []
    },
    {
      "cell_type": "code",
      "source": [
        "pdf_document = pymupdf.open(pdf_path)\n",
        "image_count = 0"
      ],
      "metadata": {
        "id": "Wv51wb-qCx2F"
      },
      "execution_count": 20,
      "outputs": []
    },
    {
      "cell_type": "code",
      "source": [
        "images_dir = os.path.join(base_dir, 'Images')\n",
        "\n",
        "if os.path.exists(images_dir):\n",
        "    shutil.rmtree(images_dir)\n",
        "os.makedirs(images_dir, exist_ok=True)"
      ],
      "metadata": {
        "id": "MYvVuDkR9wgU"
      },
      "execution_count": 21,
      "outputs": []
    },
    {
      "cell_type": "code",
      "source": [
        "# Iterate through each page\n",
        "for page_number in range(len(pdf_document)):\n",
        "    page = pdf_document[page_number]\n",
        "    images = page.get_images(full=True)\n",
        "\n",
        "    for img_index, img in enumerate(images):\n",
        "        xref = img[0]  # Get the image reference\n",
        "        base_image = pdf_document.extract_image(xref)\n",
        "\n",
        "        # Get image data\n",
        "        image_bytes = base_image[\"image\"]\n",
        "        image_ext = base_image[\"ext\"]\n",
        "\n",
        "        # Save the image\n",
        "        image_filename = f\"page_{page_number+1}_img{img_index+1}.{image_ext}\"\n",
        "        file_path = os.path.join(images_dir, image_filename)\n",
        "        with open(file_path, \"wb\") as image_file:\n",
        "            image_file.write(image_bytes)"
      ],
      "metadata": {
        "id": "cW6Ij3tMC1_P"
      },
      "execution_count": 22,
      "outputs": []
    },
    {
      "cell_type": "markdown",
      "source": [
        "### PDF metadata"
      ],
      "metadata": {
        "id": "s9a4LKa9OTN3"
      }
    },
    {
      "cell_type": "code",
      "source": [
        "# Define the folder paths\n",
        "tables_folder = tables_dir\n",
        "images_folder = images_dir\n",
        "text_folder = text_dir\n",
        "\n",
        "# Initialize metadata dictionary\n",
        "metadata = {}\n",
        "metadata['PDF_Name'] = pdf_path\n",
        "metadata['Page_Count'] = len(reader.pages)\n",
        "\n",
        "# Extract tables\n",
        "page_tables = {}\n",
        "for filename in os.listdir(tables_folder):\n",
        "    match = re.match(r\"page_(\\d+)_table_\\d+\\.csv\", filename)\n",
        "    if match:\n",
        "        page_number = int(match.group(1))\n",
        "        page_tables.setdefault(page_number, []).append(filename)\n",
        "\n",
        "# Extract images\n",
        "page_images = {}\n",
        "for filename in os.listdir(images_folder):\n",
        "    match = re.match(r\"page_(\\d+)_img\\d+\\.(jpeg|jpg)\", filename)\n",
        "    if match:\n",
        "        page_number = int(match.group(1))\n",
        "        page_images.setdefault(page_number, []).append(filename)\n",
        "\n",
        "# Extract text files and link elements\n",
        "for filename in os.listdir(text_folder):\n",
        "    match = re.match(r\"page_(\\d+)\\.txt\", filename)\n",
        "    if match:\n",
        "        page_number = int(match.group(1))\n",
        "        linked_tables = page_tables.get(page_number, [])\n",
        "        linked_images = page_images.get(page_number, [])\n",
        "\n",
        "        metadata[f\"Page {page_number}\"] = {\n",
        "            \"Text\": filename,\n",
        "            \"Tables\": linked_tables,\n",
        "            \"Images\": linked_images\n",
        "        }\n",
        "\n",
        "# Print metadata\n",
        "import json\n",
        "print(json.dumps(metadata, indent=2))\n"
      ],
      "metadata": {
        "colab": {
          "base_uri": "https://localhost:8080/"
        },
        "id": "vFdp2jnbHfmE",
        "outputId": "a64f195d-4026-4c9d-f61b-385525be7db1"
      },
      "execution_count": 23,
      "outputs": [
        {
          "output_type": "stream",
          "name": "stdout",
          "text": [
            "{\n",
            "  \"PDF_Name\": \"Understanding-NEPA-Litigation_v4.pdf\",\n",
            "  \"Page_Count\": 20,\n",
            "  \"Page 15\": {\n",
            "    \"Text\": \"page_15.txt\",\n",
            "    \"Tables\": [\n",
            "      \"page_15_table_9.csv\"\n",
            "    ],\n",
            "    \"Images\": []\n",
            "  },\n",
            "  \"Page 4\": {\n",
            "    \"Text\": \"page_4.txt\",\n",
            "    \"Tables\": [],\n",
            "    \"Images\": []\n",
            "  },\n",
            "  \"Page 16\": {\n",
            "    \"Text\": \"page_16.txt\",\n",
            "    \"Tables\": [],\n",
            "    \"Images\": []\n",
            "  },\n",
            "  \"Page 20\": {\n",
            "    \"Text\": \"page_20.txt\",\n",
            "    \"Tables\": [],\n",
            "    \"Images\": []\n",
            "  },\n",
            "  \"Page 12\": {\n",
            "    \"Text\": \"page_12.txt\",\n",
            "    \"Tables\": [],\n",
            "    \"Images\": []\n",
            "  },\n",
            "  \"Page 19\": {\n",
            "    \"Text\": \"page_19.txt\",\n",
            "    \"Tables\": [],\n",
            "    \"Images\": []\n",
            "  },\n",
            "  \"Page 7\": {\n",
            "    \"Text\": \"page_7.txt\",\n",
            "    \"Tables\": [\n",
            "      \"page_7_table_3.csv\"\n",
            "    ],\n",
            "    \"Images\": []\n",
            "  },\n",
            "  \"Page 9\": {\n",
            "    \"Text\": \"page_9.txt\",\n",
            "    \"Tables\": [],\n",
            "    \"Images\": []\n",
            "  },\n",
            "  \"Page 11\": {\n",
            "    \"Text\": \"page_11.txt\",\n",
            "    \"Tables\": [\n",
            "      \"page_11_table_7.csv\"\n",
            "    ],\n",
            "    \"Images\": []\n",
            "  },\n",
            "  \"Page 13\": {\n",
            "    \"Text\": \"page_13.txt\",\n",
            "    \"Tables\": [\n",
            "      \"page_13_table_8.csv\"\n",
            "    ],\n",
            "    \"Images\": []\n",
            "  },\n",
            "  \"Page 14\": {\n",
            "    \"Text\": \"page_14.txt\",\n",
            "    \"Tables\": [],\n",
            "    \"Images\": []\n",
            "  },\n",
            "  \"Page 6\": {\n",
            "    \"Text\": \"page_6.txt\",\n",
            "    \"Tables\": [\n",
            "      \"page_6_table_2.csv\",\n",
            "      \"page_6_table_1.csv\"\n",
            "    ],\n",
            "    \"Images\": []\n",
            "  },\n",
            "  \"Page 10\": {\n",
            "    \"Text\": \"page_10.txt\",\n",
            "    \"Tables\": [\n",
            "      \"page_10_table_6.csv\",\n",
            "      \"page_10_table_5.csv\"\n",
            "    ],\n",
            "    \"Images\": []\n",
            "  },\n",
            "  \"Page 2\": {\n",
            "    \"Text\": \"page_2.txt\",\n",
            "    \"Tables\": [],\n",
            "    \"Images\": []\n",
            "  },\n",
            "  \"Page 3\": {\n",
            "    \"Text\": \"page_3.txt\",\n",
            "    \"Tables\": [],\n",
            "    \"Images\": []\n",
            "  },\n",
            "  \"Page 8\": {\n",
            "    \"Text\": \"page_8.txt\",\n",
            "    \"Tables\": [\n",
            "      \"page_8_table_4.csv\"\n",
            "    ],\n",
            "    \"Images\": []\n",
            "  },\n",
            "  \"Page 18\": {\n",
            "    \"Text\": \"page_18.txt\",\n",
            "    \"Tables\": [],\n",
            "    \"Images\": []\n",
            "  },\n",
            "  \"Page 17\": {\n",
            "    \"Text\": \"page_17.txt\",\n",
            "    \"Tables\": [],\n",
            "    \"Images\": []\n",
            "  },\n",
            "  \"Page 5\": {\n",
            "    \"Text\": \"page_5.txt\",\n",
            "    \"Tables\": [],\n",
            "    \"Images\": []\n",
            "  },\n",
            "  \"Page 1\": {\n",
            "    \"Text\": \"page_1.txt\",\n",
            "    \"Tables\": [],\n",
            "    \"Images\": [\n",
            "      \"page_1_img3.jpeg\",\n",
            "      \"page_1_img5.jpeg\",\n",
            "      \"page_1_img2.jpeg\",\n",
            "      \"page_1_img4.jpeg\",\n",
            "      \"page_1_img6.jpeg\",\n",
            "      \"page_1_img1.jpeg\"\n",
            "    ]\n",
            "  }\n",
            "}\n"
          ]
        }
      ]
    },
    {
      "cell_type": "code",
      "source": [
        "\n",
        "metadata_dir = os.path.join(base_dir, 'Metadata')\n",
        "if os.path.exists(metadata_dir):\n",
        "    shutil.rmtree(metadata_dir)\n",
        "os.makedirs(metadata_dir, exist_ok=True)\n",
        "\n",
        "file_name = \"metadata.json\"\n",
        "file_path = os.path.join(metadata_dir, file_name)"
      ],
      "metadata": {
        "id": "tVAMjrwAM-VJ"
      },
      "execution_count": 24,
      "outputs": []
    },
    {
      "cell_type": "code",
      "source": [
        "with open(file_path, \"w\") as json_file:\n",
        "    json.dump(metadata, json_file, indent=4)"
      ],
      "metadata": {
        "id": "Gp7UDifFQ-nM"
      },
      "execution_count": 25,
      "outputs": []
    }
  ]
}